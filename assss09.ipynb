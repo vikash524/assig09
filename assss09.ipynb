{
 "cells": [
  {
   "cell_type": "code",
   "execution_count": 1,
   "id": "774aad93-3b41-4eb3-b444-7b42343b0ba8",
   "metadata": {},
   "outputs": [
    {
     "name": "stdout",
     "output_type": "stream",
     "text": [
      "Content of the file: I want to become a Data Scientist\n",
      "Using read(): I want to become a Data Scientist\n",
      "Using readline(): I want to become a Data Scientist\n",
      "Using readlines(): ['I want to become a Data Scientist']\n"
     ]
    }
   ],
   "source": [
    "# Q1\n",
    "# The function used to open a file is 'open()'. \n",
    "# Different modes of opening a file:\n",
    "# 'r': Open a file for reading. (Default)\n",
    "# 'w': Open a file for writing. Creates a new file if it does not exist, truncates the file if it exists.\n",
    "# 'a': Open a file for appending. Creates a new file if it does not exist.\n",
    "# 'b': Binary mode.\n",
    "# '+': Open a file for updating (reading and writing).\n",
    "\n",
    "# Q2\n",
    "# The close() function is used to close an open file in Python. \n",
    "# It is important to close a file to release the resources associated with it and to avoid data corruption.\n",
    "\n",
    "# Q3\n",
    "# Write to a file\n",
    "with open(\"data.txt\", \"w\") as file:\n",
    "    file.write(\"I want to become a Data Scientist\")\n",
    "\n",
    "# Read from the file\n",
    "with open(\"data.txt\", \"r\") as file:\n",
    "    content = file.read()\n",
    "    print(\"Content of the file:\", content)\n",
    "\n",
    "# Q4\n",
    "# read(): Reads the entire content of the file.\n",
    "# readline(): Reads a single line from the file.\n",
    "# readlines(): Reads all lines from the file and returns a list where each line is an element.\n",
    "\n",
    "# Example:\n",
    "with open(\"data.txt\", \"r\") as file:\n",
    "    content = file.read()  # Read entire content\n",
    "    print(\"Using read():\", content)\n",
    "\n",
    "    file.seek(0)  # Move the cursor to the beginning of the file\n",
    "    line = file.readline()  # Read single line\n",
    "    print(\"Using readline():\", line)\n",
    "\n",
    "    file.seek(0)  # Move the cursor to the beginning of the file\n",
    "    lines = file.readlines()  # Read all lines\n",
    "    print(\"Using readlines():\", lines)\n",
    "\n",
    "# Q5\n",
    "# The 'with' statement is used with 'open()' to automatically close the file when the block of code inside 'with' is executed.\n",
    "# The advantage of using 'with' statement and 'open()' together is that it ensures proper resource management and avoids the need to explicitly call 'close()' on the file.\n",
    "\n",
    "# Q6\n",
    "# write(): Writes a string to the file.\n",
    "# writelines(): Writes a list of strings to the file.\n",
    "\n",
    "# Example:\n",
    "lines = [\"This is line 1\\n\", \"This is line 2\\n\", \"This is line 3\\n\"]\n",
    "with open(\"output.txt\", \"w\") as file:\n",
    "    file.writelines(lines)\n"
   ]
  },
  {
   "cell_type": "code",
   "execution_count": null,
   "id": "5e44e610-938d-4300-af3f-5d9fa20f9d42",
   "metadata": {},
   "outputs": [],
   "source": []
  }
 ],
 "metadata": {
  "kernelspec": {
   "display_name": "Python 3 (ipykernel)",
   "language": "python",
   "name": "python3"
  },
  "language_info": {
   "codemirror_mode": {
    "name": "ipython",
    "version": 3
   },
   "file_extension": ".py",
   "mimetype": "text/x-python",
   "name": "python",
   "nbconvert_exporter": "python",
   "pygments_lexer": "ipython3",
   "version": "3.10.8"
  }
 },
 "nbformat": 4,
 "nbformat_minor": 5
}
